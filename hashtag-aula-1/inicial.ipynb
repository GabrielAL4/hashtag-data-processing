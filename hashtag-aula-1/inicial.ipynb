{
 "cells": [
  {
   "cell_type": "markdown",
   "metadata": {},
   "source": [
    "# Python Insights - Analisando Dados com Python\n",
    "\n",
    "### Case - Cancelamento de Clientes\n",
    "\n",
    "Você foi contratado por uma empresa com mais de 800 mil clientes para um projeto de Dados. Recentemente a empresa percebeu que da sua base total de clientes, a maioria são clientes inativos, ou seja, que já cancelaram o serviço.\n",
    "\n",
    "Precisando melhorar seus resultados ela quer conseguir entender os principais motivos desses cancelamentos e quais as ações mais eficientes para reduzir esse número.\n",
    "\n",
    "Base de dados e arquivos: https://drive.google.com/drive/folders/1uDesZePdkhiraJmiyeZ-w5tfc8XsNYFZ?usp=drive_link"
   ]
  },
  {
   "cell_type": "code",
   "execution_count": 6,
   "metadata": {
    "ExecuteTime": {
     "end_time": "2023-07-24T23:58:52.589420867Z",
     "start_time": "2023-07-24T23:58:50.742688832Z"
    }
   },
   "outputs": [
    {
     "data": {
      "text/plain": "        CustomerID  idade    sexo  tempo_como_cliente  frequencia_uso  \\\n0              2.0   30.0  Female                39.0            14.0   \n1              3.0   65.0  Female                49.0             1.0   \n2              4.0   55.0  Female                14.0             4.0   \n3              5.0   58.0    Male                38.0            21.0   \n4              6.0   23.0    Male                32.0            20.0   \n...            ...    ...     ...                 ...             ...   \n881661    449995.0   42.0    Male                54.0            15.0   \n881662    449996.0   25.0  Female                 8.0            13.0   \n881663    449997.0   26.0    Male                35.0            27.0   \n881664    449998.0   28.0    Male                55.0            14.0   \n881665    449999.0   31.0    Male                48.0            20.0   \n\n        ligacoes_callcenter  dias_atraso assinatura duracao_contrato  \\\n0                       5.0         18.0   Standard           Annual   \n1                      10.0          8.0      Basic          Monthly   \n2                       6.0         18.0      Basic        Quarterly   \n3                       7.0          7.0   Standard          Monthly   \n4                       5.0          8.0      Basic          Monthly   \n...                     ...          ...        ...              ...   \n881661                  1.0          3.0    Premium           Annual   \n881662                  1.0         20.0    Premium           Annual   \n881663                  1.0          5.0   Standard        Quarterly   \n881664                  2.0          0.0   Standard        Quarterly   \n881665                  1.0         14.0    Premium        Quarterly   \n\n        total_gasto  meses_ultima_interacao  cancelou  \n0            932.00                    17.0       1.0  \n1            557.00                     6.0       1.0  \n2            185.00                     3.0       1.0  \n3            396.00                    29.0       1.0  \n4            617.00                    20.0       1.0  \n...             ...                     ...       ...  \n881661       716.38                     8.0       0.0  \n881662       745.38                     2.0       0.0  \n881663       977.31                     9.0       0.0  \n881664       602.55                     2.0       0.0  \n881665       567.77                    21.0       0.0  \n\n[881666 rows x 12 columns]",
      "text/html": "<div>\n<style scoped>\n    .dataframe tbody tr th:only-of-type {\n        vertical-align: middle;\n    }\n\n    .dataframe tbody tr th {\n        vertical-align: top;\n    }\n\n    .dataframe thead th {\n        text-align: right;\n    }\n</style>\n<table border=\"1\" class=\"dataframe\">\n  <thead>\n    <tr style=\"text-align: right;\">\n      <th></th>\n      <th>CustomerID</th>\n      <th>idade</th>\n      <th>sexo</th>\n      <th>tempo_como_cliente</th>\n      <th>frequencia_uso</th>\n      <th>ligacoes_callcenter</th>\n      <th>dias_atraso</th>\n      <th>assinatura</th>\n      <th>duracao_contrato</th>\n      <th>total_gasto</th>\n      <th>meses_ultima_interacao</th>\n      <th>cancelou</th>\n    </tr>\n  </thead>\n  <tbody>\n    <tr>\n      <th>0</th>\n      <td>2.0</td>\n      <td>30.0</td>\n      <td>Female</td>\n      <td>39.0</td>\n      <td>14.0</td>\n      <td>5.0</td>\n      <td>18.0</td>\n      <td>Standard</td>\n      <td>Annual</td>\n      <td>932.00</td>\n      <td>17.0</td>\n      <td>1.0</td>\n    </tr>\n    <tr>\n      <th>1</th>\n      <td>3.0</td>\n      <td>65.0</td>\n      <td>Female</td>\n      <td>49.0</td>\n      <td>1.0</td>\n      <td>10.0</td>\n      <td>8.0</td>\n      <td>Basic</td>\n      <td>Monthly</td>\n      <td>557.00</td>\n      <td>6.0</td>\n      <td>1.0</td>\n    </tr>\n    <tr>\n      <th>2</th>\n      <td>4.0</td>\n      <td>55.0</td>\n      <td>Female</td>\n      <td>14.0</td>\n      <td>4.0</td>\n      <td>6.0</td>\n      <td>18.0</td>\n      <td>Basic</td>\n      <td>Quarterly</td>\n      <td>185.00</td>\n      <td>3.0</td>\n      <td>1.0</td>\n    </tr>\n    <tr>\n      <th>3</th>\n      <td>5.0</td>\n      <td>58.0</td>\n      <td>Male</td>\n      <td>38.0</td>\n      <td>21.0</td>\n      <td>7.0</td>\n      <td>7.0</td>\n      <td>Standard</td>\n      <td>Monthly</td>\n      <td>396.00</td>\n      <td>29.0</td>\n      <td>1.0</td>\n    </tr>\n    <tr>\n      <th>4</th>\n      <td>6.0</td>\n      <td>23.0</td>\n      <td>Male</td>\n      <td>32.0</td>\n      <td>20.0</td>\n      <td>5.0</td>\n      <td>8.0</td>\n      <td>Basic</td>\n      <td>Monthly</td>\n      <td>617.00</td>\n      <td>20.0</td>\n      <td>1.0</td>\n    </tr>\n    <tr>\n      <th>...</th>\n      <td>...</td>\n      <td>...</td>\n      <td>...</td>\n      <td>...</td>\n      <td>...</td>\n      <td>...</td>\n      <td>...</td>\n      <td>...</td>\n      <td>...</td>\n      <td>...</td>\n      <td>...</td>\n      <td>...</td>\n    </tr>\n    <tr>\n      <th>881661</th>\n      <td>449995.0</td>\n      <td>42.0</td>\n      <td>Male</td>\n      <td>54.0</td>\n      <td>15.0</td>\n      <td>1.0</td>\n      <td>3.0</td>\n      <td>Premium</td>\n      <td>Annual</td>\n      <td>716.38</td>\n      <td>8.0</td>\n      <td>0.0</td>\n    </tr>\n    <tr>\n      <th>881662</th>\n      <td>449996.0</td>\n      <td>25.0</td>\n      <td>Female</td>\n      <td>8.0</td>\n      <td>13.0</td>\n      <td>1.0</td>\n      <td>20.0</td>\n      <td>Premium</td>\n      <td>Annual</td>\n      <td>745.38</td>\n      <td>2.0</td>\n      <td>0.0</td>\n    </tr>\n    <tr>\n      <th>881663</th>\n      <td>449997.0</td>\n      <td>26.0</td>\n      <td>Male</td>\n      <td>35.0</td>\n      <td>27.0</td>\n      <td>1.0</td>\n      <td>5.0</td>\n      <td>Standard</td>\n      <td>Quarterly</td>\n      <td>977.31</td>\n      <td>9.0</td>\n      <td>0.0</td>\n    </tr>\n    <tr>\n      <th>881664</th>\n      <td>449998.0</td>\n      <td>28.0</td>\n      <td>Male</td>\n      <td>55.0</td>\n      <td>14.0</td>\n      <td>2.0</td>\n      <td>0.0</td>\n      <td>Standard</td>\n      <td>Quarterly</td>\n      <td>602.55</td>\n      <td>2.0</td>\n      <td>0.0</td>\n    </tr>\n    <tr>\n      <th>881665</th>\n      <td>449999.0</td>\n      <td>31.0</td>\n      <td>Male</td>\n      <td>48.0</td>\n      <td>20.0</td>\n      <td>1.0</td>\n      <td>14.0</td>\n      <td>Premium</td>\n      <td>Quarterly</td>\n      <td>567.77</td>\n      <td>21.0</td>\n      <td>0.0</td>\n    </tr>\n  </tbody>\n</table>\n<p>881666 rows × 12 columns</p>\n</div>"
     },
     "metadata": {},
     "output_type": "display_data"
    }
   ],
   "source": [
    "import pandas as pd\n",
    "import plotly.express as px\n",
    "\n",
    "\n",
    "table = pd.read_csv(\"cancelamentos.csv\")\n",
    "\n",
    "display(table)\n"
   ]
  },
  {
   "cell_type": "code",
   "execution_count": 7,
   "outputs": [
    {
     "name": "stdout",
     "output_type": "stream",
     "text": [
      "<class 'pandas.core.frame.DataFrame'>\n",
      "RangeIndex: 881666 entries, 0 to 881665\n",
      "Data columns (total 12 columns):\n",
      " #   Column                  Non-Null Count   Dtype  \n",
      "---  ------                  --------------   -----  \n",
      " 0   CustomerID              881664 non-null  float64\n",
      " 1   idade                   881664 non-null  float64\n",
      " 2   sexo                    881664 non-null  object \n",
      " 3   tempo_como_cliente      881663 non-null  float64\n",
      " 4   frequencia_uso          881663 non-null  float64\n",
      " 5   ligacoes_callcenter     881664 non-null  float64\n",
      " 6   dias_atraso             881664 non-null  float64\n",
      " 7   assinatura              881661 non-null  object \n",
      " 8   duracao_contrato        881663 non-null  object \n",
      " 9   total_gasto             881664 non-null  float64\n",
      " 10  meses_ultima_interacao  881664 non-null  float64\n",
      " 11  cancelou                881664 non-null  float64\n",
      "dtypes: float64(9), object(3)\n",
      "memory usage: 80.7+ MB\n"
     ]
    },
    {
     "data": {
      "text/plain": "None"
     },
     "metadata": {},
     "output_type": "display_data"
    },
    {
     "name": "stdout",
     "output_type": "stream",
     "text": [
      "<class 'pandas.core.frame.DataFrame'>\n",
      "RangeIndex: 881666 entries, 0 to 881665\n",
      "Data columns (total 11 columns):\n",
      " #   Column                  Non-Null Count   Dtype  \n",
      "---  ------                  --------------   -----  \n",
      " 0   idade                   881664 non-null  float64\n",
      " 1   sexo                    881664 non-null  object \n",
      " 2   tempo_como_cliente      881663 non-null  float64\n",
      " 3   frequencia_uso          881663 non-null  float64\n",
      " 4   ligacoes_callcenter     881664 non-null  float64\n",
      " 5   dias_atraso             881664 non-null  float64\n",
      " 6   assinatura              881661 non-null  object \n",
      " 7   duracao_contrato        881663 non-null  object \n",
      " 8   total_gasto             881664 non-null  float64\n",
      " 9   meses_ultima_interacao  881664 non-null  float64\n",
      " 10  cancelou                881664 non-null  float64\n",
      "dtypes: float64(8), object(3)\n",
      "memory usage: 74.0+ MB\n"
     ]
    },
    {
     "data": {
      "text/plain": "None"
     },
     "metadata": {},
     "output_type": "display_data"
    },
    {
     "name": "stdout",
     "output_type": "stream",
     "text": [
      "<class 'pandas.core.frame.DataFrame'>\n",
      "Index: 881659 entries, 0 to 881665\n",
      "Data columns (total 11 columns):\n",
      " #   Column                  Non-Null Count   Dtype  \n",
      "---  ------                  --------------   -----  \n",
      " 0   idade                   881659 non-null  float64\n",
      " 1   sexo                    881659 non-null  object \n",
      " 2   tempo_como_cliente      881659 non-null  float64\n",
      " 3   frequencia_uso          881659 non-null  float64\n",
      " 4   ligacoes_callcenter     881659 non-null  float64\n",
      " 5   dias_atraso             881659 non-null  float64\n",
      " 6   assinatura              881659 non-null  object \n",
      " 7   duracao_contrato        881659 non-null  object \n",
      " 8   total_gasto             881659 non-null  float64\n",
      " 9   meses_ultima_interacao  881659 non-null  float64\n",
      " 10  cancelou                881659 non-null  float64\n",
      "dtypes: float64(8), object(3)\n",
      "memory usage: 80.7+ MB\n"
     ]
    },
    {
     "data": {
      "text/plain": "None"
     },
     "metadata": {},
     "output_type": "display_data"
    },
    {
     "name": "stdout",
     "output_type": "stream",
     "text": [
      "<class 'pandas.core.frame.DataFrame'>\n",
      "Index: 440832 entries, 0 to 440856\n",
      "Data columns (total 11 columns):\n",
      " #   Column                  Non-Null Count   Dtype  \n",
      "---  ------                  --------------   -----  \n",
      " 0   idade                   440832 non-null  float64\n",
      " 1   sexo                    440832 non-null  object \n",
      " 2   tempo_como_cliente      440832 non-null  float64\n",
      " 3   frequencia_uso          440832 non-null  float64\n",
      " 4   ligacoes_callcenter     440832 non-null  float64\n",
      " 5   dias_atraso             440832 non-null  float64\n",
      " 6   assinatura              440832 non-null  object \n",
      " 7   duracao_contrato        440832 non-null  object \n",
      " 8   total_gasto             440832 non-null  float64\n",
      " 9   meses_ultima_interacao  440832 non-null  float64\n",
      " 10  cancelou                440832 non-null  float64\n",
      "dtypes: float64(8), object(3)\n",
      "memory usage: 40.4+ MB\n"
     ]
    },
    {
     "data": {
      "text/plain": "None"
     },
     "metadata": {},
     "output_type": "display_data"
    }
   ],
   "source": [
    "display(table.info())\n",
    "table = table.drop(\"CustomerID\", axis=1)\n",
    "display(table.info())\n",
    "table = table.dropna()\n",
    "display(table.info())\n",
    "table = table.drop_duplicates()\n",
    "display(table.info())\n"
   ],
   "metadata": {
    "collapsed": false,
    "ExecuteTime": {
     "end_time": "2023-07-24T23:58:53.719362619Z",
     "start_time": "2023-07-24T23:58:52.598764992Z"
    }
   }
  },
  {
   "cell_type": "code",
   "execution_count": 8,
   "outputs": [
    {
     "data": {
      "text/plain": "                   idade    sexo  tempo_como_cliente  frequencia_uso  \\\nduracao_contrato                                                       \nAnnual            177198  177198              177198          177198   \nMonthly            87104   87104               87104           87104   \nQuarterly         176530  176530              176530          176530   \n\n                  ligacoes_callcenter  dias_atraso  assinatura  total_gasto  \\\nduracao_contrato                                                              \nAnnual                         177198       177198      177198       177198   \nMonthly                         87104        87104       87104        87104   \nQuarterly                      176530       176530      176530       176530   \n\n                  meses_ultima_interacao  cancelou  \nduracao_contrato                                    \nAnnual                            177198    177198  \nMonthly                            87104     87104  \nQuarterly                         176530    176530  ",
      "text/html": "<div>\n<style scoped>\n    .dataframe tbody tr th:only-of-type {\n        vertical-align: middle;\n    }\n\n    .dataframe tbody tr th {\n        vertical-align: top;\n    }\n\n    .dataframe thead th {\n        text-align: right;\n    }\n</style>\n<table border=\"1\" class=\"dataframe\">\n  <thead>\n    <tr style=\"text-align: right;\">\n      <th></th>\n      <th>idade</th>\n      <th>sexo</th>\n      <th>tempo_como_cliente</th>\n      <th>frequencia_uso</th>\n      <th>ligacoes_callcenter</th>\n      <th>dias_atraso</th>\n      <th>assinatura</th>\n      <th>total_gasto</th>\n      <th>meses_ultima_interacao</th>\n      <th>cancelou</th>\n    </tr>\n    <tr>\n      <th>duracao_contrato</th>\n      <th></th>\n      <th></th>\n      <th></th>\n      <th></th>\n      <th></th>\n      <th></th>\n      <th></th>\n      <th></th>\n      <th></th>\n      <th></th>\n    </tr>\n  </thead>\n  <tbody>\n    <tr>\n      <th>Annual</th>\n      <td>177198</td>\n      <td>177198</td>\n      <td>177198</td>\n      <td>177198</td>\n      <td>177198</td>\n      <td>177198</td>\n      <td>177198</td>\n      <td>177198</td>\n      <td>177198</td>\n      <td>177198</td>\n    </tr>\n    <tr>\n      <th>Monthly</th>\n      <td>87104</td>\n      <td>87104</td>\n      <td>87104</td>\n      <td>87104</td>\n      <td>87104</td>\n      <td>87104</td>\n      <td>87104</td>\n      <td>87104</td>\n      <td>87104</td>\n      <td>87104</td>\n    </tr>\n    <tr>\n      <th>Quarterly</th>\n      <td>176530</td>\n      <td>176530</td>\n      <td>176530</td>\n      <td>176530</td>\n      <td>176530</td>\n      <td>176530</td>\n      <td>176530</td>\n      <td>176530</td>\n      <td>176530</td>\n      <td>176530</td>\n    </tr>\n  </tbody>\n</table>\n</div>"
     },
     "metadata": {},
     "output_type": "display_data"
    }
   ],
   "source": [
    "display(table.groupby(\"duracao_contrato\").count())"
   ],
   "metadata": {
    "collapsed": false,
    "ExecuteTime": {
     "end_time": "2023-07-24T23:58:53.775876340Z",
     "start_time": "2023-07-24T23:58:53.718718013Z"
    }
   }
  },
  {
   "cell_type": "code",
   "execution_count": 9,
   "outputs": [
    {
     "data": {
      "text/plain": "cancelou\n1.0    249999\n0.0    190833\nName: count, dtype: int64"
     },
     "metadata": {},
     "output_type": "display_data"
    },
    {
     "data": {
      "text/plain": "cancelou\n1.0    56.7%\n0.0    43.3%\nName: proportion, dtype: object"
     },
     "metadata": {},
     "output_type": "display_data"
    }
   ],
   "source": [
    "table = table[table[\"duracao_contrato\"] != \"MOnthly\"]\n",
    "\n",
    "display(table[\"cancelou\"].value_counts())\n",
    "display(table[\"cancelou\"].value_counts(normalize=True).map(\"{:.1%}\".format))\n"
   ],
   "metadata": {
    "collapsed": false,
    "ExecuteTime": {
     "end_time": "2023-07-24T23:58:53.856974806Z",
     "start_time": "2023-07-24T23:58:53.784158740Z"
    }
   }
  },
  {
   "cell_type": "code",
   "execution_count": 17,
   "outputs": [
    {
     "ename": "SyntaxError",
     "evalue": "invalid syntax (2075426907.py, line 2)",
     "output_type": "error",
     "traceback": [
      "\u001B[0;36m  Cell \u001B[0;32mIn[17], line 2\u001B[0;36m\u001B[0m\n\u001B[0;31m    graph = px.histogram(table, x=column color=\"cancelou\")\u001B[0m\n\u001B[0m                                         ^\u001B[0m\n\u001B[0;31mSyntaxError\u001B[0m\u001B[0;31m:\u001B[0m invalid syntax\n"
     ]
    }
   ],
   "source": [
    "for column in table.columns:\n",
    "    graph = px.histogram(table, x=column, color=\"cancelou\")\n",
    "    graph.show()\n"
   ],
   "metadata": {
    "collapsed": false,
    "ExecuteTime": {
     "end_time": "2023-07-25T00:11:05.533415487Z",
     "start_time": "2023-07-25T00:11:05.331240103Z"
    }
   }
  },
  {
   "cell_type": "code",
   "execution_count": null,
   "outputs": [],
   "source": [],
   "metadata": {
    "collapsed": false,
    "ExecuteTime": {
     "start_time": "2023-07-24T23:58:54.609861524Z"
    }
   }
  }
 ],
 "metadata": {
  "kernelspec": {
   "display_name": "base",
   "language": "python",
   "name": "python3"
  },
  "language_info": {
   "codemirror_mode": {
    "name": "ipython",
    "version": 3
   },
   "file_extension": ".py",
   "mimetype": "text/x-python",
   "name": "python",
   "nbconvert_exporter": "python",
   "pygments_lexer": "ipython3",
   "version": "3.10.9"
  },
  "orig_nbformat": 4
 },
 "nbformat": 4,
 "nbformat_minor": 2
}
